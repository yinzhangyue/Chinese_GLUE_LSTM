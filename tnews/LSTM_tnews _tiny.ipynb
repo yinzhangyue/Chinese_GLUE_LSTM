{
 "cells": [
  {
   "cell_type": "code",
   "execution_count": 2,
   "metadata": {},
   "outputs": [
    {
     "name": "stderr",
     "output_type": "stream",
     "text": [
      "Using TensorFlow backend.\n"
     ]
    }
   ],
   "source": [
    "import pandas as pd\n",
    "import numpy as np\n",
    "import matplotlib.pyplot as plt\n",
    "import seaborn as sns\n",
    "from sklearn import metrics\n",
    "from sklearn.preprocessing import LabelEncoder,OneHotEncoder\n",
    "import os\n",
    "os.environ[\"CUDA_DEVICE_ORDER\"]=\"PCI_BUS_ID\"   \n",
    "os.environ[\"CUDA_VISIBLE_DEVICES\"]=\"0\"\n",
    "from keras.models import Model\n",
    "from keras.layers import LSTM, Activation, Dense, Dropout, Input, Embedding\n",
    "from keras.optimizers import RMSprop\n",
    "from keras.preprocessing.text import Tokenizer\n",
    "from keras.preprocessing import sequence\n",
    "from keras.callbacks import EarlyStopping\n",
    "%matplotlib inline"
   ]
  },
  {
   "cell_type": "markdown",
   "metadata": {},
   "source": [
    "由于第一次的模型非常大，只能使用CPU训练，训练时间非常长，我们尝试使用一个更小的模型（能够放进GPU）去达到相同的准确率。"
   ]
  },
  {
   "cell_type": "code",
   "execution_count": 3,
   "metadata": {},
   "outputs": [],
   "source": [
    "# 读取数据集\n",
    "def load_data():\n",
    "    # 读取训练集\n",
    "    train_file = open(\"./toutiao_category_train.txt\", encoding='utf-8')\n",
    "    train_collection = train_file.readlines()\n",
    "    train_data = []\n",
    "    for i in train_collection:\n",
    "        i = i.split(\"_!_\")\n",
    "        i.append(len(i[4].split(\",\")))\n",
    "        i[4] = i[4].strip()\n",
    "        i[4] = \" \".join(i[4].split(\",\"))\n",
    "        i.pop(0)\n",
    "        train_data.append(i)\n",
    "    train_df = pd.DataFrame(train_data)\n",
    "    train_df.columns = [\"label_index\", \"label\", \"title\", \"cutword\", \"cutwordnum\"]\n",
    "    \n",
    "    # 读取验证集\n",
    "    val_file = open(\"./toutiao_category_dev.txt\", encoding='utf-8')\n",
    "    val_collection = val_file.readlines()\n",
    "    val_data = []\n",
    "    for i in val_collection:\n",
    "        i =i.split(\"_!_\")\n",
    "        i.append(len(i[4].split(\",\")))\n",
    "        i[4] = i[4].strip()\n",
    "        i[4] =  \" \".join(i[4].split(\",\"))\n",
    "        i.pop(0)\n",
    "        val_data.append(i)\n",
    "    val_df = pd.DataFrame(val_data)\n",
    "    val_df.columns = [\"label_index\", \"label\", \"title\", \"cutword\", \"cutwordnum\"]\n",
    "    \n",
    "    # 读取测试集\n",
    "    test_file = open(\"./toutiao_category_test.txt\", encoding='utf-8')\n",
    "    test_collection = test_file.readlines()\n",
    "    test_data = []\n",
    "    for i in test_collection:\n",
    "        i =i.split(\"_!_\")\n",
    "        i.append(len(i[4].split(\",\")))\n",
    "        i[4] = i[4].strip()\n",
    "        i[4] =  \" \".join(i[4].split(\",\"))\n",
    "        i.pop(0)\n",
    "        test_data.append(i)\n",
    "    test_df = pd.DataFrame(test_data)\n",
    "    test_df.columns = [\"label_index\", \"label\", \"title\", \"cutword\", \"cutwordnum\"]\n",
    "    \n",
    "    return train_df, val_df, test_df"
   ]
  },
  {
   "cell_type": "code",
   "execution_count": 4,
   "metadata": {},
   "outputs": [],
   "source": [
    "train_df, val_df, test_df = load_data()"
   ]
  },
  {
   "cell_type": "code",
   "execution_count": 5,
   "metadata": {},
   "outputs": [
    {
     "data": {
      "text/html": [
       "<div>\n",
       "<style scoped>\n",
       "    .dataframe tbody tr th:only-of-type {\n",
       "        vertical-align: middle;\n",
       "    }\n",
       "\n",
       "    .dataframe tbody tr th {\n",
       "        vertical-align: top;\n",
       "    }\n",
       "\n",
       "    .dataframe thead th {\n",
       "        text-align: right;\n",
       "    }\n",
       "</style>\n",
       "<table border=\"1\" class=\"dataframe\">\n",
       "  <thead>\n",
       "    <tr style=\"text-align: right;\">\n",
       "      <th></th>\n",
       "      <th>label_index</th>\n",
       "      <th>label</th>\n",
       "      <th>title</th>\n",
       "      <th>cutword</th>\n",
       "      <th>cutwordnum</th>\n",
       "    </tr>\n",
       "  </thead>\n",
       "  <tbody>\n",
       "    <tr>\n",
       "      <th>0</th>\n",
       "      <td>104</td>\n",
       "      <td>news_finance</td>\n",
       "      <td>股票中的突破形态</td>\n",
       "      <td>股票</td>\n",
       "      <td>1</td>\n",
       "    </tr>\n",
       "    <tr>\n",
       "      <th>1</th>\n",
       "      <td>102</td>\n",
       "      <td>news_entertainment</td>\n",
       "      <td>他是最帅的古装男神，10国语言六门武术，演技在线却常演配角！</td>\n",
       "      <td>三生三世十里桃花 张智尧 杨门女将之女儿当自强 陆小凤 印象深刻 陆小凤传奇 杨宗保 花满楼...</td>\n",
       "      <td>9</td>\n",
       "    </tr>\n",
       "    <tr>\n",
       "      <th>2</th>\n",
       "      <td>102</td>\n",
       "      <td>news_entertainment</td>\n",
       "      <td>陈伟霆和黄晓明真的有差别，难怪baby会选择黄晓明</td>\n",
       "      <td>陈伟霆 黄晓明 粉丝</td>\n",
       "      <td>3</td>\n",
       "    </tr>\n",
       "    <tr>\n",
       "      <th>3</th>\n",
       "      <td>107</td>\n",
       "      <td>news_car</td>\n",
       "      <td>驾驶证科目几最难？</td>\n",
       "      <td>驾驶证 科目</td>\n",
       "      <td>2</td>\n",
       "    </tr>\n",
       "    <tr>\n",
       "      <th>4</th>\n",
       "      <td>104</td>\n",
       "      <td>news_finance</td>\n",
       "      <td>紫贝龙2017年营收1644万元 业绩亏损1425万元</td>\n",
       "      <td>上年同期 紫贝龙</td>\n",
       "      <td>2</td>\n",
       "    </tr>\n",
       "  </tbody>\n",
       "</table>\n",
       "</div>"
      ],
      "text/plain": [
       "  label_index               label                           title  \\\n",
       "0         104        news_finance                        股票中的突破形态   \n",
       "1         102  news_entertainment  他是最帅的古装男神，10国语言六门武术，演技在线却常演配角！   \n",
       "2         102  news_entertainment       陈伟霆和黄晓明真的有差别，难怪baby会选择黄晓明   \n",
       "3         107            news_car                       驾驶证科目几最难？   \n",
       "4         104        news_finance     紫贝龙2017年营收1644万元 业绩亏损1425万元   \n",
       "\n",
       "                                             cutword  cutwordnum  \n",
       "0                                                 股票           1  \n",
       "1  三生三世十里桃花 张智尧 杨门女将之女儿当自强 陆小凤 印象深刻 陆小凤传奇 杨宗保 花满楼...           9  \n",
       "2                                         陈伟霆 黄晓明 粉丝           3  \n",
       "3                                             驾驶证 科目           2  \n",
       "4                                           上年同期 紫贝龙           2  "
      ]
     },
     "execution_count": 5,
     "metadata": {},
     "output_type": "execute_result"
    }
   ],
   "source": [
    "train_df.head()"
   ]
  },
  {
   "cell_type": "markdown",
   "metadata": {},
   "source": [
    "数据探索"
   ]
  },
  {
   "cell_type": "code",
   "execution_count": 6,
   "metadata": {},
   "outputs": [
    {
     "data": {
      "image/png": "[encoded data removed]",
      "text/plain": [
       "<Figure size 432x288 with 1 Axes>"
      ]
     },
     "metadata": {
      "needs_background": "light"
     },
     "output_type": "display_data"
    }
   ],
   "source": [
    "## 查看训练集都有哪些标签\n",
    "plt.figure()\n",
    "sns.countplot(train_df.label)\n",
    "plt.xlabel('label')\n",
    "plt.xticks(rotation=90)\n",
    "plt.show()"
   ]
  },
  {
   "cell_type": "markdown",
   "metadata": {},
   "source": [
    "共15种标签，标签分布比较均匀。"
   ]
  },
  {
   "cell_type": "code",
   "execution_count": 7,
   "metadata": {},
   "outputs": [
    {
     "name": "stdout",
     "output_type": "stream",
     "text": [
      "count    267881.00000\n",
      "mean          3.84844\n",
      "std           2.66363\n",
      "min           1.00000\n",
      "25%           1.00000\n",
      "50%           5.00000\n",
      "75%           5.00000\n",
      "max          20.00000\n",
      "Name: cutwordnum, dtype: float64\n"
     ]
    },
    {
     "data": {
      "image/png": "[encoded data removed]",
      "text/plain": [
       "<Figure size 432x288 with 1 Axes>"
      ]
     },
     "metadata": {
      "needs_background": "light"
     },
     "output_type": "display_data"
    }
   ],
   "source": [
    "## 分析训练集中词组数量的分布\n",
    "print(train_df.cutwordnum.describe())\n",
    "plt.figure()\n",
    "plt.hist(train_df.cutwordnum,bins=100)\n",
    "plt.xlabel(\"phrase length\")\n",
    "plt.ylabel(\"frequency\")\n",
    "plt.title(\"train data\")\n",
    "plt.show()"
   ]
  },
  {
   "cell_type": "code",
   "execution_count": 8,
   "metadata": {},
   "outputs": [
    {
     "name": "stderr",
     "output_type": "stream",
     "text": [
      "C:\\ProgramData\\Anaconda3\\lib\\site-packages\\sklearn\\preprocessing\\_encoders.py:415: FutureWarning: The handling of integer data will change in version 0.22. Currently, the categories are determined based on the range [0, max(values)], while in the future they will be determined based on the unique values.\n",
      "If you want the future behaviour and silence this warning, you can specify \"categories='auto'\".\n",
      "In case you used a LabelEncoder before this OneHotEncoder to convert the categories to integers, then you can now use the OneHotEncoder directly.\n",
      "  warnings.warn(msg, FutureWarning)\n"
     ]
    }
   ],
   "source": [
    "## 对数据集的标签数据进行重新编码\n",
    "train_y = train_df.label\n",
    "val_y = val_df.label\n",
    "test_y = test_df.label\n",
    "le = LabelEncoder()\n",
    "train_y = le.fit_transform(train_y).reshape(-1,1)\n",
    "val_y = le.transform(val_y).reshape(-1,1)\n",
    "test_y = le.transform(test_y).reshape(-1,1)\n",
    "\n",
    "## 对数据集的标签数据进行one-hot编码\n",
    "ohe = OneHotEncoder()\n",
    "train_y = ohe.fit_transform(train_y).toarray()\n",
    "val_y = ohe.transform(val_y).toarray()\n",
    "test_y = ohe.transform(test_y).toarray()"
   ]
  },
  {
   "cell_type": "markdown",
   "metadata": {},
   "source": [
    "使用Tokenizer对词组进行编码"
   ]
  },
  {
   "cell_type": "code",
   "execution_count": 9,
   "metadata": {},
   "outputs": [
    {
     "name": "stdout",
     "output_type": "stream",
     "text": [
      "('游戏', 1)\n",
      "('农村', 2)\n",
      "('俄罗斯', 3)\n",
      "('suv', 4)\n",
      "('东方ic', 5)\n",
      "('美国', 6)\n",
      "('伊朗', 7)\n",
      "('nba', 8)\n",
      "('詹姆斯', 9)\n",
      "('日本', 10)\n",
      "===================\n",
      "('股票', 796)\n",
      "('三生三世十里桃花', 183)\n",
      "('张智尧', 12)\n",
      "('杨门女将之女儿当自强', 1)\n",
      "('陆小凤', 9)\n",
      "('印象深刻', 3)\n",
      "('陆小凤传奇', 6)\n",
      "('杨宗保', 4)\n",
      "('花满楼', 3)\n",
      "('古剑奇谭', 104)\n"
     ]
    }
   ],
   "source": [
    "max_words = 5000\n",
    "max_len = 600\n",
    "tok = Tokenizer(num_words=max_words)  ## 使用的最大词语数为5000\n",
    "tok.fit_on_texts(train_df.cutword)\n",
    "\n",
    "## 使用word_index属性可以看到每次词对应的编码\n",
    "## 使用word_counts属性可以看到每个词对应的频数\n",
    "for ii,iterm in enumerate(tok.word_index.items()):\n",
    "    if ii < 10:\n",
    "        print(iterm)\n",
    "    else:\n",
    "        break\n",
    "print(\"===================\")  \n",
    "for ii,iterm in enumerate(tok.word_counts.items()):\n",
    "    if ii < 10:\n",
    "        print(iterm)\n",
    "    else:\n",
    "        break"
   ]
  },
  {
   "cell_type": "markdown",
   "metadata": {},
   "source": [
    "使用tok.texts_to_sequences()将数据转化为序列，并使用sequence.pad_sequences()将每个序列调整为相同的长度。"
   ]
  },
  {
   "cell_type": "code",
   "execution_count": 10,
   "metadata": {},
   "outputs": [
    {
     "name": "stdout",
     "output_type": "stream",
     "text": [
      "(267881, 600)\n",
      "(57403, 600)\n",
      "(57404, 600)\n"
     ]
    }
   ],
   "source": [
    "## 对每个词编码之后，每句新闻中的每个词就可以用对应的编码表示，即每条新闻可以转变成一个向量了：\n",
    "train_seq = tok.texts_to_sequences(train_df.cutword)\n",
    "val_seq = tok.texts_to_sequences(val_df.cutword)\n",
    "test_seq = tok.texts_to_sequences(test_df.cutword)\n",
    "## 将每个序列调整为相同的长度\n",
    "train_seq_mat = sequence.pad_sequences(train_seq,maxlen=max_len)\n",
    "val_seq_mat = sequence.pad_sequences(val_seq,maxlen=max_len)\n",
    "test_seq_mat = sequence.pad_sequences(test_seq,maxlen=max_len)\n",
    "\n",
    "print(train_seq_mat.shape)\n",
    "print(val_seq_mat.shape)\n",
    "print(test_seq_mat.shape)"
   ]
  },
  {
   "cell_type": "markdown",
   "metadata": {},
   "source": [
    "建立LSTM模型并训练"
   ]
  },
  {
   "cell_type": "code",
   "execution_count": 11,
   "metadata": {},
   "outputs": [
    {
     "name": "stderr",
     "output_type": "stream",
     "text": [
      "WARNING: Logging before flag parsing goes to stderr.\n",
      "W0113 21:06:07.737234   936 deprecation.py:506] From C:\\ProgramData\\Anaconda3\\lib\\site-packages\\tensorflow_core\\python\\ops\\resource_variable_ops.py:1630: calling BaseResourceVariable.__init__ (from tensorflow.python.ops.resource_variable_ops) with constraint is deprecated and will be removed in a future version.\n",
      "Instructions for updating:\n",
      "If using Keras pass *_constraint arguments to layers.\n"
     ]
    },
    {
     "name": "stdout",
     "output_type": "stream",
     "text": [
      "Model: \"model_1\"\n",
      "_________________________________________________________________\n",
      "Layer (type)                 Output Shape              Param #   \n",
      "=================================================================\n",
      "inputs (InputLayer)          (None, 600)               0         \n",
      "_________________________________________________________________\n",
      "embedding_1 (Embedding)      (None, 600, 16)           80016     \n",
      "_________________________________________________________________\n",
      "lstm_1 (LSTM)                (None, 4)                 336       \n",
      "_________________________________________________________________\n",
      "FC2 (Dense)                  (None, 15)                75        \n",
      "=================================================================\n",
      "Total params: 80,427\n",
      "Trainable params: 80,427\n",
      "Non-trainable params: 0\n",
      "_________________________________________________________________\n"
     ]
    }
   ],
   "source": [
    "## 定义LSTM模型\n",
    "inputs = Input(name='inputs',shape=[max_len])\n",
    "## Embedding(词汇表大小,batch大小,每个新闻的词长)\n",
    "layer = Embedding(max_words+1,16,input_length=max_len)(inputs)\n",
    "layer = LSTM(4)(layer)\n",
    "# layer = Dense(16,activation=\"relu\",name=\"FC1\")(layer)\n",
    "# layer = Dropout(0.5)(layer)\n",
    "layer = Dense(15,activation=\"softmax\",name=\"FC2\")(layer)\n",
    "model = Model(inputs=inputs,outputs=layer)\n",
    "model.summary()\n",
    "model.compile(loss=\"categorical_crossentropy\",optimizer=RMSprop(),metrics=[\"accuracy\"])"
   ]
  },
  {
   "cell_type": "markdown",
   "metadata": {},
   "source": [
    "模型建立好之后，开始进行训练"
   ]
  },
  {
   "cell_type": "code",
   "execution_count": 12,
   "metadata": {
    "scrolled": true
   },
   "outputs": [
    {
     "name": "stderr",
     "output_type": "stream",
     "text": [
      "W0113 21:06:10.413002   936 module_wrapper.py:139] From C:\\ProgramData\\Anaconda3\\lib\\site-packages\\keras\\backend\\tensorflow_backend.py:422: The name tf.global_variables is deprecated. Please use tf.compat.v1.global_variables instead.\n",
      "\n"
     ]
    },
    {
     "name": "stdout",
     "output_type": "stream",
     "text": [
      "Train on 267881 samples, validate on 57403 samples\n",
      "Epoch 1/10\n",
      "267881/267881 [==============================] - 343s 1ms/step - loss: 2.4742 - accuracy: 0.1837 - val_loss: 2.2690 - val_accuracy: 0.2776\n",
      "Epoch 2/10\n",
      "267881/267881 [==============================] - 296s 1ms/step - loss: 2.1013 - accuracy: 0.3214 - val_loss: 1.9660 - val_accuracy: 0.3719\n",
      "Epoch 3/10\n",
      "267881/267881 [==============================] - 296s 1ms/step - loss: 1.8886 - accuracy: 0.3815 - val_loss: 1.8414 - val_accuracy: 0.3865\n",
      "Epoch 4/10\n",
      "267881/267881 [==============================] - 297s 1ms/step - loss: 1.7842 - accuracy: 0.4034 - val_loss: 1.7559 - val_accuracy: 0.4210\n",
      "Epoch 5/10\n",
      "267881/267881 [==============================] - 340s 1ms/step - loss: 1.7045 - accuracy: 0.4521 - val_loss: 1.6812 - val_accuracy: 0.4768\n",
      "Epoch 6/10\n",
      "267881/267881 [==============================] - 348s 1ms/step - loss: 1.6229 - accuracy: 0.5032 - val_loss: 1.6056 - val_accuracy: 0.5150\n",
      "Epoch 7/10\n",
      "267881/267881 [==============================] - 311s 1ms/step - loss: 1.5596 - accuracy: 0.5333 - val_loss: 1.5546 - val_accuracy: 0.5319\n",
      "Epoch 8/10\n",
      "267881/267881 [==============================] - 308s 1ms/step - loss: 1.5201 - accuracy: 0.5399 - val_loss: 1.5321 - val_accuracy: 0.5341\n",
      "Epoch 9/10\n",
      "267881/267881 [==============================] - 310s 1ms/step - loss: 1.4983 - accuracy: 0.5416 - val_loss: 1.5142 - val_accuracy: 0.5362\n",
      "Epoch 10/10\n",
      "267881/267881 [==============================] - 325s 1ms/step - loss: 1.4848 - accuracy: 0.5433 - val_loss: 1.5045 - val_accuracy: 0.5368\n"
     ]
    }
   ],
   "source": [
    "## 模型训练\n",
    "model_fit = model.fit(train_seq_mat,train_y,batch_size=512,epochs=10,\n",
    "                      validation_data=(val_seq_mat,val_y),\n",
    "                      callbacks=[EarlyStopping(monitor='val_loss',min_delta=0.0001)] ## 当val-loss不再提升时停止训练\n",
    "                     )"
   ]
  },
  {
   "cell_type": "code",
   "execution_count": 13,
   "metadata": {},
   "outputs": [],
   "source": [
    "## 对测试集进行预测\n",
    "test_pre = model.predict(test_seq_mat)\n",
    "\n",
    "## 评价预测效果，计算混淆矩阵\n",
    "confm = metrics.confusion_matrix(np.argmax(test_pre,axis=1),np.argmax(test_y,axis=1))"
   ]
  },
  {
   "cell_type": "code",
   "execution_count": 14,
   "metadata": {},
   "outputs": [
    {
     "data": {
      "text/plain": [
       "['news_finance',\n",
       " 'news_entertainment',\n",
       " 'news_car',\n",
       " 'news_game',\n",
       " 'news_sports',\n",
       " 'news_world',\n",
       " 'news_tech',\n",
       " 'news_culture',\n",
       " 'news_house',\n",
       " 'news_travel',\n",
       " 'news_agriculture',\n",
       " 'news_military',\n",
       " 'news_edu',\n",
       " 'news_story',\n",
       " 'stock']"
      ]
     },
     "execution_count": 14,
     "metadata": {},
     "output_type": "execute_result"
    }
   ],
   "source": [
    "list(train_df.label.drop_duplicates())"
   ]
  },
  {
   "cell_type": "code",
   "execution_count": 15,
   "metadata": {},
   "outputs": [],
   "source": [
    "Labname =  list(train_df.label.drop_duplicates())"
   ]
  },
  {
   "cell_type": "code",
   "execution_count": 16,
   "metadata": {},
   "outputs": [
    {
     "data": {
      "image/png": "[encoded data removed]",
      "text/plain": [
       "<Figure size 576x576 with 1 Axes>"
      ]
     },
     "metadata": {
      "needs_background": "light"
     },
     "output_type": "display_data"
    },
    {
     "name": "stdout",
     "output_type": "stream",
     "text": [
      "              precision    recall  f1-score   support\n",
      "\n",
      "           0       0.52      0.77      0.62      2000\n",
      "           1       0.67      0.93      0.78      3793\n",
      "           2       0.93      0.16      0.27     24833\n",
      "           3       0.39      0.71      0.50      2292\n",
      "           4       0.69      0.90      0.78      4479\n",
      "           5       0.53      0.80      0.64      2715\n",
      "           6       0.57      0.91      0.70      2715\n",
      "           7       0.43      0.76      0.55      1529\n",
      "           8       0.44      0.82      0.58      2071\n",
      "           9       0.59      0.94      0.73      3558\n",
      "          10       0.02      1.00      0.03        15\n",
      "          11       0.46      0.80      0.59      3632\n",
      "          12       0.32      0.65      0.43      1623\n",
      "          13       0.37      0.68      0.48      2149\n",
      "          14       0.00      0.00      0.00         0\n",
      "\n",
      "    accuracy                           0.54     57404\n",
      "   macro avg       0.46      0.72      0.51     57404\n",
      "weighted avg       0.70      0.54      0.48     57404\n",
      "\n"
     ]
    },
    {
     "name": "stderr",
     "output_type": "stream",
     "text": [
      "C:\\ProgramData\\Anaconda3\\lib\\site-packages\\sklearn\\metrics\\classification.py:1439: UndefinedMetricWarning: Recall and F-score are ill-defined and being set to 0.0 in labels with no true samples.\n",
      "  'recall', 'true', average, warn_for)\n",
      "C:\\ProgramData\\Anaconda3\\lib\\site-packages\\sklearn\\metrics\\classification.py:1439: UndefinedMetricWarning: Recall and F-score are ill-defined and being set to 0.0 in labels with no true samples.\n",
      "  'recall', 'true', average, warn_for)\n",
      "C:\\ProgramData\\Anaconda3\\lib\\site-packages\\sklearn\\metrics\\classification.py:1439: UndefinedMetricWarning: Recall and F-score are ill-defined and being set to 0.0 in labels with no true samples.\n",
      "  'recall', 'true', average, warn_for)\n"
     ]
    }
   ],
   "source": [
    "## 混淆矩阵可视化\n",
    "plt.figure(figsize=(8,8))\n",
    "sns.heatmap(confm.T, square=True, annot=True,\n",
    "            fmt='d', cbar=False,linewidths=.8,\n",
    "            cmap=\"YlGnBu\")\n",
    "plt.xlabel('True label',size = 14)\n",
    "plt.ylabel('Predicted label',size = 14)\n",
    "plt.xticks(np.arange(15)+0.5,Labname,rotation=90)\n",
    "plt.yticks(np.arange(15)+0.3,Labname,rotation=0)\n",
    "plt.show()\n",
    "\n",
    "\n",
    "print(metrics.classification_report(np.argmax(test_pre,axis=1),np.argmax(test_y,axis=1)))"
   ]
  },
  {
   "cell_type": "markdown",
   "metadata": {},
   "source": [
    "训练时间：1小时，准确率：54%，使用GPU后耗时大大减小，虽然迭代了10轮可能尚未收敛，但准确率却已经逼近原始的模型。"
   ]
  },
  {
   "cell_type": "code",
   "execution_count": 17,
   "metadata": {},
   "outputs": [],
   "source": [
    "## 保存训练好的Tokenizer，和导入\n",
    "# import pickle\n",
    "# # saving\n",
    "# with open('tok.pickle', 'wb') as handle:\n",
    "#     pickle.dump(tok, handle, protocol=pickle.HIGHEST_PROTOCOL)"
   ]
  },
  {
   "cell_type": "code",
   "execution_count": 18,
   "metadata": {},
   "outputs": [],
   "source": [
    "# # loading\n",
    "# with open('tok.pickle', 'rb') as handle:\n",
    "#     tok = pickle.load(handle)\n",
    "# ## 使用word_index属性可以看到每次词对应的编码\n",
    "# ## 使用word_counts属性可以看到每个词对应的频数\n",
    "# for ii,iterm in enumerate(tok.word_index.items()):\n",
    "#     if ii < 10:\n",
    "#         print(iterm)\n",
    "#     else:\n",
    "#         break\n",
    "# print(\"===================\")  \n",
    "# for ii,iterm in enumerate(tok.word_counts.items()):\n",
    "#     if ii < 10:\n",
    "#         print(iterm)\n",
    "#     else:\n",
    "#         break"
   ]
  },
  {
   "cell_type": "code",
   "execution_count": 19,
   "metadata": {},
   "outputs": [],
   "source": [
    "## 模型的保存和导入\n",
    "from keras.models import load_model\n",
    "# 保存模型\n",
    "model.save('LSTM_tnews_tiny_model.h5')  "
   ]
  },
  {
   "cell_type": "code",
   "execution_count": 20,
   "metadata": {},
   "outputs": [],
   "source": [
    "# # 导入已经训练好的模型\n",
    "# model = load_model('my_model.h5')\n",
    "# ## 使用tok对验证数据集重新预处理\n",
    "# val_seq = tok.texts_to_sequences(val_df.cutword)\n",
    "# ## 将每个序列调整为相同的长度\n",
    "# val_seq_mat = sequence.pad_sequences(val_seq,maxlen=max_len)\n",
    "# ## 对验证集进行预测\n",
    "# val_pre = model.predict(val_seq_mat)\n",
    "# print(metrics.classification_report(np.argmax(val_pre,axis=1),np.argmax(val_y,axis=1)))"
   ]
  }
 ],
 "metadata": {
  "kernelspec": {
   "display_name": "Python 3",
   "language": "python",
   "name": "python3"
  },
  "language_info": {
   "codemirror_mode": {
    "name": "ipython",
    "version": 3
   },
   "file_extension": ".py",
   "mimetype": "text/x-python",
   "name": "python",
   "nbconvert_exporter": "python",
   "pygments_lexer": "ipython3",
   "version": "3.7.4"
  }
 },
 "nbformat": 4,
 "nbformat_minor": 2
}
