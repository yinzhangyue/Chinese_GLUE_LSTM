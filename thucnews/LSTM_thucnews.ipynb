{
 "cells": [
  {
   "cell_type": "code",
   "execution_count": 1,
   "metadata": {},
   "outputs": [],
   "source": [
    "import pandas as pd\n",
    "import numpy as np\n",
    "import matplotlib.pyplot as plt\n",
    "import seaborn as sns\n",
    "from sklearn import metrics\n",
    "from sklearn.preprocessing import LabelEncoder,OneHotEncoder\n",
    "import jieba.analyse\n",
    "%matplotlib inline"
   ]
  },
  {
   "cell_type": "code",
   "execution_count": 2,
   "metadata": {},
   "outputs": [],
   "source": [
    "# 读取数据集\n",
    "def load_data():\n",
    "    # 读取训练集\n",
    "    train_file = open(\"./thucnews_train.txt\", encoding='utf-8')\n",
    "    train_collection = train_file.readlines()\n",
    "    train_data = []\n",
    "    for i in train_collection:\n",
    "        i = i.split(\"_!_\")\n",
    "#         print(i[3][:100])\n",
    "#         keywords = []\n",
    "# #         print(i[3])\n",
    "# #         print(type(jieba.analyse.textrank(i[3], topK=30)))\n",
    "#         items = jieba.analyse.textrank(i[3], topK=30) # 提取30个关键词\n",
    "#         for item in items:\n",
    "#             keywords.append(item[0])\n",
    "        if len(i) < 4:\n",
    "            continue\n",
    "        i[3] = \" \".join(jieba.analyse.textrank(i[3], topK=30))\n",
    "        i.append(len(i[3].split()))\n",
    "        i.pop(2) # 去除ID\n",
    "        train_data.append(i)\n",
    "    train_df = pd.DataFrame(train_data)\n",
    "    train_df.columns = [\"label_index\", \"label\", \"cutword\", \"cutwordnum\"]\n",
    "    \n",
    "    # 读取验证集\n",
    "    val_file = open(\"./thucnews_dev.txt\", encoding='utf-8')\n",
    "    val_collection = val_file.readlines()\n",
    "    val_data = []\n",
    "    for i in val_collection:\n",
    "        i = i.split(\"_!_\")\n",
    "        if len(i) < 4:\n",
    "            continue\n",
    "        i[3] = \" \".join(jieba.analyse.textrank(i[3], topK=30))\n",
    "        i.append(len(i[3].split()))\n",
    "        i.pop(2) # 去除ID\n",
    "        val_data.append(i)\n",
    "    val_df = pd.DataFrame(val_data)\n",
    "    val_df.columns = [\"label_index\", \"label\", \"cutword\", \"cutwordnum\"]\n",
    "    \n",
    "    # 读取测试集\n",
    "    test_file = open(\"./thucnews_test.txt\", encoding='utf-8')\n",
    "    test_collection = test_file.readlines()\n",
    "    test_data = []\n",
    "    for i in test_collection:\n",
    "        i = i.split(\"_!_\")\n",
    "        if len(i) < 4:\n",
    "            continue\n",
    "        i[3] = \" \".join(jieba.analyse.textrank(i[3], topK=30))\n",
    "        i.append(len(i[3].split()))\n",
    "        i.pop(2) # 去除ID\n",
    "        test_data.append(i)\n",
    "    test_df = pd.DataFrame(test_data)\n",
    "    test_df.columns = [\"label_index\", \"label\", \"cutword\", \"cutwordnum\"]\n",
    "    \n",
    "    return train_df, val_df, test_df"
   ]
  },
  {
   "cell_type": "code",
   "execution_count": 3,
   "metadata": {},
   "outputs": [
    {
     "name": "stderr",
     "output_type": "stream",
     "text": [
      "Building prefix dict from the default dictionary ...\n",
      "Loading model from cache C:\\Users\\yinzh\\AppData\\Local\\Temp\\jieba.cache\n",
      "Loading model cost 0.815 seconds.\n",
      "Prefix dict has been built successfully.\n"
     ]
    }
   ],
   "source": [
    "train_df, val_df, test_df = load_data()"
   ]
  },
  {
   "cell_type": "code",
   "execution_count": 4,
   "metadata": {},
   "outputs": [
    {
     "data": {
      "text/html": [
       "<div>\n",
       "<style scoped>\n",
       "    .dataframe tbody tr th:only-of-type {\n",
       "        vertical-align: middle;\n",
       "    }\n",
       "\n",
       "    .dataframe tbody tr th {\n",
       "        vertical-align: top;\n",
       "    }\n",
       "\n",
       "    .dataframe thead th {\n",
       "        text-align: right;\n",
       "    }\n",
       "</style>\n",
       "<table border=\"1\" class=\"dataframe\">\n",
       "  <thead>\n",
       "    <tr style=\"text-align: right;\">\n",
       "      <th></th>\n",
       "      <th>label_index</th>\n",
       "      <th>label</th>\n",
       "      <th>cutword</th>\n",
       "      <th>cutwordnum</th>\n",
       "    </tr>\n",
       "  </thead>\n",
       "  <tbody>\n",
       "    <tr>\n",
       "      <td>0</td>\n",
       "      <td>0</td>\n",
       "      <td>体育</td>\n",
       "      <td>温州 记者 订婚 订婚宴 红色 纽扣 国际 看着 大酒店 射击队 生意 服务员 仪式 宴席 ...</td>\n",
       "      <td>30</td>\n",
       "    </tr>\n",
       "    <tr>\n",
       "      <td>1</td>\n",
       "      <td>12</td>\n",
       "      <td>股票</td>\n",
       "      <td>中辽 复牌 股东 停牌 分配利润 公司 分红 股东大会 有限公司 实现 开发 盈利 净利润 ...</td>\n",
       "      <td>30</td>\n",
       "    </tr>\n",
       "    <tr>\n",
       "      <td>2</td>\n",
       "      <td>10</td>\n",
       "      <td>社会</td>\n",
       "      <td>炸弹 信息 编造 法院 警方 都市报 市民 记者 宣判 超市 发送 流芳 行为 认为 反复 ...</td>\n",
       "      <td>30</td>\n",
       "    </tr>\n",
       "    <tr>\n",
       "      <td>3</td>\n",
       "      <td>7</td>\n",
       "      <td>时政</td>\n",
       "      <td>俄罗斯 法国 作出 进行 表示 报道 地区 战舰 北约 出售 两国 达成 得以 协议 环球网...</td>\n",
       "      <td>30</td>\n",
       "    </tr>\n",
       "    <tr>\n",
       "      <td>4</td>\n",
       "      <td>1</td>\n",
       "      <td>娱乐</td>\n",
       "      <td>无线 案件 内地 监制 港剧 主演 新剧 剧中 自制 群英 法网 带来 对撼 香港 打造 映...</td>\n",
       "      <td>30</td>\n",
       "    </tr>\n",
       "  </tbody>\n",
       "</table>\n",
       "</div>"
      ],
      "text/plain": [
       "  label_index label                                            cutword  \\\n",
       "0           0    体育  温州 记者 订婚 订婚宴 红色 纽扣 国际 看着 大酒店 射击队 生意 服务员 仪式 宴席 ...   \n",
       "1          12    股票  中辽 复牌 股东 停牌 分配利润 公司 分红 股东大会 有限公司 实现 开发 盈利 净利润 ...   \n",
       "2          10    社会  炸弹 信息 编造 法院 警方 都市报 市民 记者 宣判 超市 发送 流芳 行为 认为 反复 ...   \n",
       "3           7    时政  俄罗斯 法国 作出 进行 表示 报道 地区 战舰 北约 出售 两国 达成 得以 协议 环球网...   \n",
       "4           1    娱乐  无线 案件 内地 监制 港剧 主演 新剧 剧中 自制 群英 法网 带来 对撼 香港 打造 映...   \n",
       "\n",
       "   cutwordnum  \n",
       "0          30  \n",
       "1          30  \n",
       "2          30  \n",
       "3          30  \n",
       "4          30  "
      ]
     },
     "execution_count": 4,
     "metadata": {},
     "output_type": "execute_result"
    }
   ],
   "source": [
    "train_df.head()"
   ]
  },
  {
   "cell_type": "markdown",
   "metadata": {},
   "source": [
    "数据探索"
   ]
  },
  {
   "cell_type": "code",
   "execution_count": 5,
   "metadata": {},
   "outputs": [
    {
     "data": {
      "image/png": "[encoded data removed]",
      "text/plain": [
       "<Figure size 432x288 with 1 Axes>"
      ]
     },
     "metadata": {
      "needs_background": "light"
     },
     "output_type": "display_data"
    }
   ],
   "source": [
    "## 查看训练集都有哪些标签\n",
    "plt.rcParams['font.sans-serif'] = ['SimHei']\n",
    "plt.figure()\n",
    "sns.countplot(train_df.label)\n",
    "plt.xlabel('label')\n",
    "plt.xticks(rotation=90)\n",
    "plt.show()"
   ]
  },
  {
   "cell_type": "markdown",
   "metadata": {},
   "source": [
    "共15种标签，标签分布比较均匀。"
   ]
  },
  {
   "cell_type": "code",
   "execution_count": 6,
   "metadata": {},
   "outputs": [
    {
     "name": "stdout",
     "output_type": "stream",
     "text": [
      "count    33436.000000\n",
      "mean        28.624776\n",
      "std          4.465043\n",
      "min          0.000000\n",
      "25%         30.000000\n",
      "50%         30.000000\n",
      "75%         30.000000\n",
      "max         30.000000\n",
      "Name: cutwordnum, dtype: float64\n"
     ]
    },
    {
     "data": {
      "image/png": "[encoded data removed]",
      "text/plain": [
       "<Figure size 432x288 with 1 Axes>"
      ]
     },
     "metadata": {
      "needs_background": "light"
     },
     "output_type": "display_data"
    }
   ],
   "source": [
    "## 分析训练集中词组数量的分布\n",
    "print(train_df.cutwordnum.describe())\n",
    "plt.figure()\n",
    "plt.hist(train_df.cutwordnum,bins=100)\n",
    "plt.xlabel(\"phrase length\")\n",
    "plt.ylabel(\"frequency\")\n",
    "plt.title(\"train data\")\n",
    "plt.show()"
   ]
  },
  {
   "cell_type": "code",
   "execution_count": 7,
   "metadata": {},
   "outputs": [
    {
     "name": "stderr",
     "output_type": "stream",
     "text": [
      "Using TensorFlow backend.\n"
     ]
    }
   ],
   "source": [
    "import os\n",
    "os.environ[\"CUDA_DEVICE_ORDER\"]=\"PCI_BUS_ID\"   \n",
    "os.environ[\"CUDA_VISIBLE_DEVICES\"]=\"0\"\n",
    "from keras.models import Model\n",
    "from keras.layers import LSTM, Activation, Dense, Dropout, Input, Embedding\n",
    "from keras.optimizers import RMSprop\n",
    "from keras.preprocessing.text import Tokenizer\n",
    "from keras.preprocessing import sequence\n",
    "from keras.callbacks import EarlyStopping"
   ]
  },
  {
   "cell_type": "code",
   "execution_count": 8,
   "metadata": {},
   "outputs": [
    {
     "name": "stderr",
     "output_type": "stream",
     "text": [
      "C:\\ProgramData\\Anaconda3\\lib\\site-packages\\sklearn\\preprocessing\\_encoders.py:415: FutureWarning: The handling of integer data will change in version 0.22. Currently, the categories are determined based on the range [0, max(values)], while in the future they will be determined based on the unique values.\n",
      "If you want the future behaviour and silence this warning, you can specify \"categories='auto'\".\n",
      "In case you used a LabelEncoder before this OneHotEncoder to convert the categories to integers, then you can now use the OneHotEncoder directly.\n",
      "  warnings.warn(msg, FutureWarning)\n"
     ]
    }
   ],
   "source": [
    "## 对数据集的标签数据进行重新编码\n",
    "train_y = train_df.label\n",
    "val_y = val_df.label\n",
    "test_y = test_df.label\n",
    "le = LabelEncoder()\n",
    "train_y = le.fit_transform(train_y).reshape(-1,1)\n",
    "val_y = le.transform(val_y).reshape(-1,1)\n",
    "test_y = le.transform(test_y).reshape(-1,1)\n",
    "\n",
    "## 对数据集的标签数据进行one-hot编码\n",
    "ohe = OneHotEncoder()\n",
    "train_y = ohe.fit_transform(train_y).toarray()\n",
    "val_y = ohe.transform(val_y).toarray()\n",
    "test_y = ohe.transform(test_y).toarray()"
   ]
  },
  {
   "cell_type": "markdown",
   "metadata": {},
   "source": [
    "使用Tokenizer对词组进行编码。"
   ]
  },
  {
   "cell_type": "code",
   "execution_count": 9,
   "metadata": {},
   "outputs": [
    {
     "name": "stdout",
     "output_type": "stream",
     "text": [
      "('没有', 1)\n",
      "('市场', 2)\n",
      "('公司', 3)\n",
      "('表示', 4)\n",
      "('中国', 5)\n",
      "('时间', 6)\n",
      "('进行', 7)\n",
      "('记者', 8)\n",
      "('北京', 9)\n",
      "('可能', 10)\n",
      "===================\n",
      "('温州', 33)\n",
      "('记者', 3898)\n",
      "('订婚', 20)\n",
      "('订婚宴', 1)\n",
      "('红色', 190)\n",
      "('纽扣', 4)\n",
      "('国际', 1635)\n",
      "('看着', 95)\n",
      "('大酒店', 22)\n",
      "('射击队', 3)\n"
     ]
    }
   ],
   "source": [
    "max_words = 5000\n",
    "max_len = 600\n",
    "tok = Tokenizer(num_words=max_words)  ## 使用的最大词语数为5000\n",
    "tok.fit_on_texts(train_df.cutword)\n",
    "\n",
    "## 使用word_index属性可以看到每次词对应的编码\n",
    "## 使用word_counts属性可以看到每个词对应的频数\n",
    "for ii,iterm in enumerate(tok.word_index.items()):\n",
    "    if ii < 10:\n",
    "        print(iterm)\n",
    "    else:\n",
    "        break\n",
    "print(\"===================\")  \n",
    "for ii,iterm in enumerate(tok.word_counts.items()):\n",
    "    if ii < 10:\n",
    "        print(iterm)\n",
    "    else:\n",
    "        break"
   ]
  },
  {
   "cell_type": "markdown",
   "metadata": {},
   "source": [
    "使用tok.texts_to_sequences()将数据转化为序列，并使用sequence.pad_sequences()将每个序列调整为相同的长度。"
   ]
  },
  {
   "cell_type": "code",
   "execution_count": 10,
   "metadata": {},
   "outputs": [
    {
     "name": "stdout",
     "output_type": "stream",
     "text": [
      "(33436, 600)\n",
      "(4180, 600)\n",
      "(4180, 600)\n"
     ]
    }
   ],
   "source": [
    "## 对每个词编码之后，每句新闻中的每个词就可以用对应的编码表示，即每条新闻可以转变成一个向量了：\n",
    "train_seq = tok.texts_to_sequences(train_df.cutword)\n",
    "val_seq = tok.texts_to_sequences(val_df.cutword)\n",
    "test_seq = tok.texts_to_sequences(test_df.cutword)\n",
    "## 将每个序列调整为相同的长度\n",
    "train_seq_mat = sequence.pad_sequences(train_seq,maxlen=max_len)\n",
    "val_seq_mat = sequence.pad_sequences(val_seq,maxlen=max_len)\n",
    "test_seq_mat = sequence.pad_sequences(test_seq,maxlen=max_len)\n",
    "\n",
    "print(train_seq_mat.shape)\n",
    "print(val_seq_mat.shape)\n",
    "print(test_seq_mat.shape)"
   ]
  },
  {
   "cell_type": "code",
   "execution_count": 11,
   "metadata": {},
   "outputs": [
    {
     "data": {
      "text/plain": [
       "0      体育\n",
       "1      股票\n",
       "2      社会\n",
       "3      时政\n",
       "4      娱乐\n",
       "7      科技\n",
       "24     财经\n",
       "25     游戏\n",
       "26     彩票\n",
       "41     家居\n",
       "49     教育\n",
       "80     房产\n",
       "100    时尚\n",
       "308    星座\n",
       "Name: label, dtype: object"
      ]
     },
     "execution_count": 11,
     "metadata": {},
     "output_type": "execute_result"
    }
   ],
   "source": [
    "train_df.label.drop_duplicates()"
   ]
  },
  {
   "cell_type": "code",
   "execution_count": 12,
   "metadata": {},
   "outputs": [
    {
     "data": {
      "text/plain": [
       "14"
      ]
     },
     "execution_count": 12,
     "metadata": {},
     "output_type": "execute_result"
    }
   ],
   "source": [
    "len(train_df.label.drop_duplicates())"
   ]
  },
  {
   "cell_type": "markdown",
   "metadata": {},
   "source": [
    "建立LSTM模型并训练。"
   ]
  },
  {
   "cell_type": "code",
   "execution_count": 24,
   "metadata": {},
   "outputs": [
    {
     "name": "stdout",
     "output_type": "stream",
     "text": [
      "Model: \"model_3\"\n",
      "_________________________________________________________________\n",
      "Layer (type)                 Output Shape              Param #   \n",
      "=================================================================\n",
      "inputs (InputLayer)          (None, 600)               0         \n",
      "_________________________________________________________________\n",
      "embedding_3 (Embedding)      (None, 600, 128)          640128    \n",
      "_________________________________________________________________\n",
      "lstm_3 (LSTM)                (None, 64)                49408     \n",
      "_________________________________________________________________\n",
      "FC1 (Dense)                  (None, 32)                2080      \n",
      "_________________________________________________________________\n",
      "FC2 (Dense)                  (None, 14)                462       \n",
      "=================================================================\n",
      "Total params: 692,078\n",
      "Trainable params: 692,078\n",
      "Non-trainable params: 0\n",
      "_________________________________________________________________\n"
     ]
    }
   ],
   "source": [
    "## 定义LSTM模型\n",
    "inputs = Input(name='inputs',shape=[max_len])\n",
    "## Embedding(词汇表大小,batch大小,每个新闻的词长)\n",
    "layer = Embedding(max_words+1,128,input_length=max_len)(inputs)\n",
    "layer = LSTM(64)(layer)\n",
    "layer = Dense(32,activation=\"relu\",name=\"FC1\")(layer)\n",
    "# layer = Dropout(0.5)(layer)\n",
    "layer = Dense(14,activation=\"softmax\",name=\"FC2\")(layer)\n",
    "model = Model(inputs=inputs,outputs=layer)\n",
    "model.summary()\n",
    "model.compile(loss=\"categorical_crossentropy\",optimizer=RMSprop(),metrics=[\"accuracy\"])"
   ]
  },
  {
   "cell_type": "code",
   "execution_count": null,
   "metadata": {},
   "outputs": [
    {
     "name": "stdout",
     "output_type": "stream",
     "text": [
      "Train on 33436 samples, validate on 4180 samples\n",
      "Epoch 1/10\n",
      " 1536/33436 [>.............................] - ETA: 7:29 - loss: 2.6241 - accuracy: 0.1673"
     ]
    }
   ],
   "source": [
    "## 模型训练\n",
    "model_fit = model.fit(train_seq_mat,train_y,batch_size=512,epochs=10,\n",
    "                      validation_data=(val_seq_mat,val_y),\n",
    "                      callbacks=[EarlyStopping(monitor='val_loss',min_delta=0.0001)] ## 当val-loss不再提升时停止训练\n",
    "                     )"
   ]
  },
  {
   "cell_type": "code",
   "execution_count": null,
   "metadata": {},
   "outputs": [],
   "source": [
    "## 对测试集进行预测\n",
    "test_pre = model.predict(test_seq_mat)\n",
    "\n",
    "## 评价预测效果，计算混淆矩阵\n",
    "confm = metrics.confusion_matrix(np.argmax(test_pre,axis=1),np.argmax(test_y,axis=1))"
   ]
  },
  {
   "cell_type": "code",
   "execution_count": null,
   "metadata": {},
   "outputs": [],
   "source": [
    "Labname =  list(train_df.label.drop_duplicates())"
   ]
  },
  {
   "cell_type": "code",
   "execution_count": null,
   "metadata": {},
   "outputs": [],
   "source": [
    "## 混淆矩阵可视化\n",
    "plt.figure(figsize=(8,8))\n",
    "sns.heatmap(confm.T, square=True, annot=True,\n",
    "            fmt='d', cbar=False,linewidths=.8,\n",
    "            cmap=\"YlGnBu\")\n",
    "plt.xlabel('True label',size = 14)\n",
    "plt.ylabel('Predicted label',size = 14)\n",
    "plt.xticks(np.arange(len(Labname))+0.5,Labname,rotation=90)\n",
    "plt.yticks(np.arange(len(Labname))+0.3,Labname,rotation=0)\n",
    "plt.show()\n",
    "\n",
    "\n",
    "print(metrics.classification_report(np.argmax(test_pre,axis=1),np.argmax(test_y,axis=1)))"
   ]
  },
  {
   "cell_type": "markdown",
   "metadata": {},
   "source": [
    "用时1小时，测试集准确率86%，相当不错的准确率。"
   ]
  },
  {
   "cell_type": "code",
   "execution_count": null,
   "metadata": {},
   "outputs": [],
   "source": [
    "# 保存训练好的Tokenizer，和导入\n",
    "import pickle\n",
    "# saving\n",
    "with open('tok_thucnews.pickle', 'wb') as handle:\n",
    "    pickle.dump(tok, handle, protocol=pickle.HIGHEST_PROTOCOL)"
   ]
  },
  {
   "cell_type": "code",
   "execution_count": null,
   "metadata": {},
   "outputs": [],
   "source": [
    "# import pickle\n",
    "# # loading\n",
    "# with open('tok_thucnews.pickle', 'rb') as handle:\n",
    "#     tok = pickle.load(handle)\n",
    "# ## 使用word_index属性可以看到每次词对应的编码\n",
    "# ## 使用word_counts属性可以看到每个词对应的频数\n",
    "# for ii,iterm in enumerate(tok.word_index.items()):\n",
    "#     if ii < 10:\n",
    "#         print(iterm)\n",
    "#     else:\n",
    "#         break\n",
    "# print(\"===================\")  \n",
    "# for ii,iterm in enumerate(tok.word_counts.items()):\n",
    "#     if ii < 10:\n",
    "#         print(iterm)\n",
    "#     else:\n",
    "#         break"
   ]
  },
  {
   "cell_type": "code",
   "execution_count": null,
   "metadata": {},
   "outputs": [],
   "source": [
    "## 模型的保存和导入\n",
    "from keras.models import load_model\n",
    "# 保存模型\n",
    "model.save('LSTM_thucnews_model.h5')  "
   ]
  },
  {
   "cell_type": "code",
   "execution_count": null,
   "metadata": {},
   "outputs": [],
   "source": [
    "# # 导入已经训练好的模型\n",
    "# model = load_model('my_model.h5')\n",
    "# ## 使用tok对验证数据集重新预处理\n",
    "# val_seq = tok.texts_to_sequences(val_df.cutword)\n",
    "# ## 将每个序列调整为相同的长度\n",
    "# val_seq_mat = sequence.pad_sequences(val_seq,maxlen=max_len)\n",
    "# ## 对验证集进行预测\n",
    "# val_pre = model.predict(val_seq_mat)\n",
    "# print(metrics.classification_report(np.argmax(val_pre,axis=1),np.argmax(val_y,axis=1)))"
   ]
  }
 ],
 "metadata": {
  "kernelspec": {
   "display_name": "Python 3",
   "language": "python",
   "name": "python3"
  },
  "language_info": {
   "codemirror_mode": {
    "name": "ipython",
    "version": 3
   },
   "file_extension": ".py",
   "mimetype": "text/x-python",
   "name": "python",
   "nbconvert_exporter": "python",
   "pygments_lexer": "ipython3",
   "version": "3.7.4"
  }
 },
 "nbformat": 4,
 "nbformat_minor": 2
}
