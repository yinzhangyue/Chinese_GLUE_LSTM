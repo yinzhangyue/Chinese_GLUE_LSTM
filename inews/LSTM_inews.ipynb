{
 "cells": [
  {
   "cell_type": "code",
   "execution_count": 1,
   "metadata": {},
   "outputs": [],
   "source": [
    "import pandas as pd\n",
    "import numpy as np\n",
    "import matplotlib.pyplot as plt\n",
    "import seaborn as sns\n",
    "from sklearn import metrics\n",
    "from sklearn.preprocessing import LabelEncoder,OneHotEncoder\n",
    "import re\n",
    "import jieba\n",
    "import jieba.analyse\n",
    "%matplotlib inline"
   ]
  },
  {
   "cell_type": "code",
   "execution_count": 2,
   "metadata": {},
   "outputs": [],
   "source": [
    "# 读取数据集\n",
    "def load_data():\n",
    "    # 读取训练集\n",
    "    train_file = open(\"./inews_train.txt\", encoding='utf-8')\n",
    "    train_collection = train_file.readlines()\n",
    "    train_data = []\n",
    "    for i in train_collection:\n",
    "        i = i.split(\"_!_\")\n",
    "        # 提取30个关键词 + \" \" + 标题分词\n",
    "        i[2] = \" \".join(jieba.analyse.textrank(i[3], topK=30)) + \" \" + \" \".join(jieba.cut(re.sub(r'[^\\w\\s]','',i[2].strip()), cut_all=False))\n",
    "        i.append(len(i[2].split()))\n",
    "        i.pop(1) # 去除ID\n",
    "        i.pop(2)\n",
    "        train_data.append(i)\n",
    "    train_df = pd.DataFrame(train_data)\n",
    "    train_df.columns = [\"label\", \"cutword\", \"cutwordnum\"]\n",
    "    \n",
    "    # 读取验证集\n",
    "    val_file = open(\"./inews_dev.txt\", encoding='utf-8')\n",
    "    val_collection = val_file.readlines()\n",
    "    val_data = []\n",
    "    for i in val_collection:\n",
    "        i = i.split(\"_!_\")\n",
    "        i[2] = \" \".join(jieba.analyse.textrank(i[3], topK=30)) + \" \" + \" \".join(jieba.cut(re.sub(r'[^\\w\\s]','',i[2].strip()), cut_all=False))\n",
    "        i.append(len(i[2].split()))\n",
    "        i.pop(1) # 去除ID\n",
    "        i.pop(2)\n",
    "        val_data.append(i)\n",
    "    val_df = pd.DataFrame(val_data)\n",
    "    val_df.columns = [\"label\", \"cutword\", \"cutwordnum\"]\n",
    "    \n",
    "    # 读取测试集\n",
    "    test_file = open(\"./inews_test.txt\", encoding='utf-8')\n",
    "    test_collection = test_file.readlines()\n",
    "    test_data = []\n",
    "    for i in test_collection:\n",
    "        i = i.split(\"_!_\")\n",
    "        i[2] = \" \".join(jieba.analyse.textrank(i[3], topK=30)) + \" \" + \" \".join(jieba.cut(re.sub(r'[^\\w\\s]','',i[2].strip()), cut_all=False))\n",
    "        i.append(len(i[2].split()))\n",
    "        i.pop(1) # 去除ID\n",
    "        i.pop(2)\n",
    "        test_data.append(i)\n",
    "    test_df = pd.DataFrame(test_data)\n",
    "    test_df.columns = [\"label\", \"cutword\", \"cutwordnum\"]\n",
    "    \n",
    "    return train_df, val_df, test_df"
   ]
  },
  {
   "cell_type": "code",
   "execution_count": 3,
   "metadata": {},
   "outputs": [
    {
     "name": "stderr",
     "output_type": "stream",
     "text": [
      "Building prefix dict from the default dictionary ...\n",
      "Loading model from cache C:\\Users\\yinzh\\AppData\\Local\\Temp\\jieba.cache\n",
      "Loading model cost 0.900 seconds.\n",
      "Prefix dict has been built successfully.\n"
     ]
    }
   ],
   "source": [
    "train_df, val_df, test_df = load_data()"
   ]
  },
  {
   "cell_type": "code",
   "execution_count": 4,
   "metadata": {},
   "outputs": [
    {
     "data": {
      "text/html": [
       "<div>\n",
       "<style scoped>\n",
       "    .dataframe tbody tr th:only-of-type {\n",
       "        vertical-align: middle;\n",
       "    }\n",
       "\n",
       "    .dataframe tbody tr th {\n",
       "        vertical-align: top;\n",
       "    }\n",
       "\n",
       "    .dataframe thead th {\n",
       "        text-align: right;\n",
       "    }\n",
       "</style>\n",
       "<table border=\"1\" class=\"dataframe\">\n",
       "  <thead>\n",
       "    <tr style=\"text-align: right;\">\n",
       "      <th></th>\n",
       "      <th>label</th>\n",
       "      <th>cutword</th>\n",
       "      <th>cutwordnum</th>\n",
       "    </tr>\n",
       "  </thead>\n",
       "  <tbody>\n",
       "    <tr>\n",
       "      <td>0</td>\n",
       "      <td>label</td>\n",
       "      <td>title</td>\n",
       "      <td>1</td>\n",
       "    </tr>\n",
       "    <tr>\n",
       "      <td>1</td>\n",
       "      <td>1</td>\n",
       "      <td>活动 家具 中央 夜购 苹果 数量 音乐 签到 品牌 儿童 小朋友 转基因 知名 现场 潮流...</td>\n",
       "      <td>36</td>\n",
       "    </tr>\n",
       "    <tr>\n",
       "      <td>2</td>\n",
       "      <td>1</td>\n",
       "      <td>朋友 大家 个股 时期 直播 买进 股票 交流 涨幅 关注 药辅 山河 超过 无偿 完全免费...</td>\n",
       "      <td>42</td>\n",
       "    </tr>\n",
       "    <tr>\n",
       "      <td>3</td>\n",
       "      <td>0</td>\n",
       "      <td>基干民兵 民兵 意识 训练 全镇 军事训练 队伍 开展 政治 提升 队列训练 国防 常识 加...</td>\n",
       "      <td>36</td>\n",
       "    </tr>\n",
       "    <tr>\n",
       "      <td>4</td>\n",
       "      <td>2</td>\n",
       "      <td>进行 驾驶 没有 小伙子 小伙 无证 民警 地点 上路 指定 考出 达到 标准 训练 专业 ...</td>\n",
       "      <td>39</td>\n",
       "    </tr>\n",
       "  </tbody>\n",
       "</table>\n",
       "</div>"
      ],
      "text/plain": [
       "   label                                            cutword  cutwordnum\n",
       "0  label                                              title           1\n",
       "1      1  活动 家具 中央 夜购 苹果 数量 音乐 签到 品牌 儿童 小朋友 转基因 知名 现场 潮流...          36\n",
       "2      1  朋友 大家 个股 时期 直播 买进 股票 交流 涨幅 关注 药辅 山河 超过 无偿 完全免费...          42\n",
       "3      0  基干民兵 民兵 意识 训练 全镇 军事训练 队伍 开展 政治 提升 队列训练 国防 常识 加...          36\n",
       "4      2  进行 驾驶 没有 小伙子 小伙 无证 民警 地点 上路 指定 考出 达到 标准 训练 专业 ...          39"
      ]
     },
     "execution_count": 4,
     "metadata": {},
     "output_type": "execute_result"
    }
   ],
   "source": [
    "train_df.head()"
   ]
  },
  {
   "cell_type": "code",
   "execution_count": 25,
   "metadata": {},
   "outputs": [],
   "source": [
    "train_df = train_df.drop(index=[0])"
   ]
  },
  {
   "cell_type": "markdown",
   "metadata": {},
   "source": [
    "数据探索"
   ]
  },
  {
   "cell_type": "code",
   "execution_count": 26,
   "metadata": {
    "scrolled": true
   },
   "outputs": [
    {
     "data": {
      "image/png": "[encoded data removed]",
      "text/plain": [
       "<Figure size 432x288 with 1 Axes>"
      ]
     },
     "metadata": {
      "needs_background": "light"
     },
     "output_type": "display_data"
    }
   ],
   "source": [
    "## 查看训练集都有哪些标签\n",
    "plt.figure()\n",
    "sns.countplot(train_df.label)\n",
    "plt.xlabel('label')\n",
    "plt.xticks(rotation=90)\n",
    "plt.show()"
   ]
  },
  {
   "cell_type": "markdown",
   "metadata": {},
   "source": [
    "共15种标签，标签分布比较均匀。"
   ]
  },
  {
   "cell_type": "code",
   "execution_count": 27,
   "metadata": {},
   "outputs": [
    {
     "name": "stdout",
     "output_type": "stream",
     "text": [
      "count    5355.000000\n",
      "mean       37.459010\n",
      "std         9.757575\n",
      "min         1.000000\n",
      "25%        37.000000\n",
      "50%        40.000000\n",
      "75%        43.000000\n",
      "max        63.000000\n",
      "Name: cutwordnum, dtype: float64\n"
     ]
    },
    {
     "data": {
      "image/png": "[encoded data removed]",
      "text/plain": [
       "<Figure size 432x288 with 1 Axes>"
      ]
     },
     "metadata": {
      "needs_background": "light"
     },
     "output_type": "display_data"
    }
   ],
   "source": [
    "## 分析训练集中词组数量的分布\n",
    "print(train_df.cutwordnum.describe())\n",
    "plt.figure()\n",
    "plt.hist(train_df.cutwordnum,bins=100)\n",
    "plt.xlabel(\"phrase length\")\n",
    "plt.ylabel(\"frequency\")\n",
    "plt.title(\"train data\")\n",
    "plt.show()"
   ]
  },
  {
   "cell_type": "code",
   "execution_count": 28,
   "metadata": {},
   "outputs": [],
   "source": [
    "import os\n",
    "os.environ[\"CUDA_DEVICE_ORDER\"]=\"PCI_BUS_ID\"   \n",
    "os.environ[\"CUDA_VISIBLE_DEVICES\"]=\"0\"\n",
    "from keras.models import Model\n",
    "from keras.layers import LSTM, Activation, Dense, Dropout, Input, Embedding\n",
    "from keras.optimizers import RMSprop\n",
    "from keras.preprocessing.text import Tokenizer\n",
    "from keras.preprocessing import sequence\n",
    "from keras.callbacks import EarlyStopping"
   ]
  },
  {
   "cell_type": "code",
   "execution_count": 29,
   "metadata": {},
   "outputs": [
    {
     "name": "stderr",
     "output_type": "stream",
     "text": [
      "C:\\ProgramData\\Anaconda3\\lib\\site-packages\\sklearn\\preprocessing\\_encoders.py:415: FutureWarning: The handling of integer data will change in version 0.22. Currently, the categories are determined based on the range [0, max(values)], while in the future they will be determined based on the unique values.\n",
      "If you want the future behaviour and silence this warning, you can specify \"categories='auto'\".\n",
      "In case you used a LabelEncoder before this OneHotEncoder to convert the categories to integers, then you can now use the OneHotEncoder directly.\n",
      "  warnings.warn(msg, FutureWarning)\n"
     ]
    }
   ],
   "source": [
    "## 对数据集的标签数据进行重新编码\n",
    "train_y = train_df.label\n",
    "val_y = val_df.label\n",
    "test_y = test_df.label\n",
    "le = LabelEncoder()\n",
    "train_y = le.fit_transform(train_y).reshape(-1,1)\n",
    "val_y = le.transform(val_y).reshape(-1,1)\n",
    "test_y = le.transform(test_y).reshape(-1,1)\n",
    "\n",
    "## 对数据集的标签数据进行one-hot编码\n",
    "ohe = OneHotEncoder()\n",
    "train_y = ohe.fit_transform(train_y).toarray()\n",
    "val_y = ohe.transform(val_y).toarray()\n",
    "test_y = ohe.transform(test_y).toarray()"
   ]
  },
  {
   "cell_type": "markdown",
   "metadata": {},
   "source": [
    "使用Tokenizer对词组进行编码。"
   ]
  },
  {
   "cell_type": "code",
   "execution_count": 30,
   "metadata": {},
   "outputs": [
    {
     "name": "stdout",
     "output_type": "stream",
     "text": [
      "('的', 1)\n",
      "('没有', 2)\n",
      "('进行', 3)\n",
      "('工作', 4)\n",
      "('发生', 5)\n",
      "('问题', 6)\n",
      "('中国', 7)\n",
      "('被', 8)\n",
      "('了', 9)\n",
      "('公司', 10)\n",
      "===================\n",
      "('活动', 455)\n",
      "('家具', 27)\n",
      "('中央', 49)\n",
      "('夜购', 1)\n",
      "('苹果', 45)\n",
      "('数量', 21)\n",
      "('音乐', 30)\n",
      "('签到', 9)\n",
      "('品牌', 80)\n",
      "('儿童', 59)\n"
     ]
    }
   ],
   "source": [
    "max_words = 5000\n",
    "max_len = 600\n",
    "tok = Tokenizer(num_words=max_words)  ## 使用的最大词语数为5000\n",
    "tok.fit_on_texts(train_df.cutword)\n",
    "\n",
    "## 使用word_index属性可以看到每次词对应的编码\n",
    "## 使用word_counts属性可以看到每个词对应的频数\n",
    "for ii,iterm in enumerate(tok.word_index.items()):\n",
    "    if ii < 10:\n",
    "        print(iterm)\n",
    "    else:\n",
    "        break\n",
    "print(\"===================\")  \n",
    "for ii,iterm in enumerate(tok.word_counts.items()):\n",
    "    if ii < 10:\n",
    "        print(iterm)\n",
    "    else:\n",
    "        break"
   ]
  },
  {
   "cell_type": "markdown",
   "metadata": {},
   "source": [
    "使用tok.texts_to_sequences()将数据转化为序列，并使用sequence.pad_sequences()将每个序列调整为相同的长度。"
   ]
  },
  {
   "cell_type": "code",
   "execution_count": 31,
   "metadata": {},
   "outputs": [
    {
     "name": "stdout",
     "output_type": "stream",
     "text": [
      "(5355, 600)\n",
      "(1000, 600)\n",
      "(1000, 600)\n"
     ]
    }
   ],
   "source": [
    "## 对每个词编码之后，每句新闻中的每个词就可以用对应的编码表示，即每条新闻可以转变成一个向量了：\n",
    "train_seq = tok.texts_to_sequences(train_df.cutword)\n",
    "val_seq = tok.texts_to_sequences(val_df.cutword)\n",
    "test_seq = tok.texts_to_sequences(test_df.cutword)\n",
    "## 将每个序列调整为相同的长度\n",
    "train_seq_mat = sequence.pad_sequences(train_seq,maxlen=max_len)\n",
    "val_seq_mat = sequence.pad_sequences(val_seq,maxlen=max_len)\n",
    "test_seq_mat = sequence.pad_sequences(test_seq,maxlen=max_len)\n",
    "\n",
    "print(train_seq_mat.shape)\n",
    "print(val_seq_mat.shape)\n",
    "print(test_seq_mat.shape)"
   ]
  },
  {
   "cell_type": "code",
   "execution_count": 32,
   "metadata": {},
   "outputs": [
    {
     "data": {
      "text/plain": [
       "1    1\n",
       "3    0\n",
       "4    2\n",
       "Name: label, dtype: object"
      ]
     },
     "execution_count": 32,
     "metadata": {},
     "output_type": "execute_result"
    }
   ],
   "source": [
    "train_df.label.drop_duplicates()"
   ]
  },
  {
   "cell_type": "code",
   "execution_count": 33,
   "metadata": {},
   "outputs": [
    {
     "data": {
      "text/plain": [
       "3"
      ]
     },
     "execution_count": 33,
     "metadata": {},
     "output_type": "execute_result"
    }
   ],
   "source": [
    "len(train_df.label.drop_duplicates())"
   ]
  },
  {
   "cell_type": "markdown",
   "metadata": {},
   "source": [
    "建立LSTM模型并训练。"
   ]
  },
  {
   "cell_type": "code",
   "execution_count": 49,
   "metadata": {},
   "outputs": [
    {
     "name": "stdout",
     "output_type": "stream",
     "text": [
      "Model: \"model_4\"\n",
      "_________________________________________________________________\n",
      "Layer (type)                 Output Shape              Param #   \n",
      "=================================================================\n",
      "inputs (InputLayer)          (None, 600)               0         \n",
      "_________________________________________________________________\n",
      "embedding_5 (Embedding)      (None, 600, 128)          640128    \n",
      "_________________________________________________________________\n",
      "lstm_6 (LSTM)                (None, 128)               131584    \n",
      "_________________________________________________________________\n",
      "FC1 (Dense)                  (None, 32)                4128      \n",
      "_________________________________________________________________\n",
      "FC2 (Dense)                  (None, 3)                 99        \n",
      "=================================================================\n",
      "Total params: 775,939\n",
      "Trainable params: 775,939\n",
      "Non-trainable params: 0\n",
      "_________________________________________________________________\n"
     ]
    }
   ],
   "source": [
    "## 定义LSTM模型\n",
    "inputs = Input(name='inputs',shape=[max_len])\n",
    "## Embedding(词汇表大小,batch大小,每个新闻的词长)\n",
    "layer = Embedding(max_words+1,128,input_length=max_len)(inputs)\n",
    "layer = LSTM(128)(layer)\n",
    "layer = Dense(32,activation=\"relu\",name=\"FC1\")(layer)\n",
    "# layer = Dropout(0.5)(layer)\n",
    "layer = Dense(3,activation=\"softmax\",name=\"FC2\")(layer)\n",
    "model = Model(inputs=inputs,outputs=layer)\n",
    "model.summary()\n",
    "model.compile(loss=\"categorical_crossentropy\",optimizer=RMSprop(),metrics=[\"accuracy\"])"
   ]
  },
  {
   "cell_type": "code",
   "execution_count": 40,
   "metadata": {
    "scrolled": true
   },
   "outputs": [
    {
     "name": "stdout",
     "output_type": "stream",
     "text": [
      "Train on 5355 samples, validate on 1000 samples\n",
      "Epoch 1/10\n",
      "5355/5355 [==============================] - 77s 14ms/step - loss: 0.7468 - accuracy: 0.6764 - val_loss: 0.6023 - val_accuracy: 0.7530\n",
      "Epoch 2/10\n",
      "5355/5355 [==============================] - 76s 14ms/step - loss: 0.4405 - accuracy: 0.8213 - val_loss: 0.5575 - val_accuracy: 0.7600\n",
      "Epoch 3/10\n",
      "5355/5355 [==============================] - 76s 14ms/step - loss: 0.3227 - accuracy: 0.8777 - val_loss: 0.5769 - val_accuracy: 0.7380\n"
     ]
    }
   ],
   "source": [
    "## 模型训练\n",
    "model_fit = model.fit(train_seq_mat,train_y,batch_size=32,epochs=10,\n",
    "                      validation_data=(val_seq_mat,val_y),\n",
    "                      callbacks=[EarlyStopping(monitor='val_loss',min_delta=0.0001)] ## 当val-loss不再提升时停止训练\n",
    "                     )"
   ]
  },
  {
   "cell_type": "code",
   "execution_count": 41,
   "metadata": {},
   "outputs": [],
   "source": [
    "## 对测试集进行预测\n",
    "test_pre = model.predict(test_seq_mat)\n",
    "\n",
    "## 评价预测效果，计算混淆矩阵\n",
    "confm = metrics.confusion_matrix(np.argmax(test_pre,axis=1),np.argmax(test_y,axis=1))"
   ]
  },
  {
   "cell_type": "code",
   "execution_count": 42,
   "metadata": {},
   "outputs": [],
   "source": [
    "Labname =  list(train_df.label.drop_duplicates())"
   ]
  },
  {
   "cell_type": "code",
   "execution_count": 43,
   "metadata": {},
   "outputs": [
    {
     "data": {
      "image/png": "[encoded data removed]",
      "text/plain": [
       "<Figure size 576x576 with 1 Axes>"
      ]
     },
     "metadata": {
      "needs_background": "light"
     },
     "output_type": "display_data"
    },
    {
     "name": "stdout",
     "output_type": "stream",
     "text": [
      "              precision    recall  f1-score   support\n",
      "\n",
      "           0       0.63      0.47      0.54       131\n",
      "           1       0.72      0.80      0.75       444\n",
      "           2       0.82      0.78      0.80       425\n",
      "\n",
      "    accuracy                           0.75      1000\n",
      "   macro avg       0.72      0.68      0.70      1000\n",
      "weighted avg       0.75      0.75      0.74      1000\n",
      "\n"
     ]
    }
   ],
   "source": [
    "## 混淆矩阵可视化\n",
    "plt.figure(figsize=(8,8))\n",
    "sns.heatmap(confm.T, square=True, annot=True,\n",
    "            fmt='d', cbar=False,linewidths=.8,\n",
    "            cmap=\"YlGnBu\")\n",
    "plt.xlabel('True label',size = 14)\n",
    "plt.ylabel('Predicted label',size = 14)\n",
    "plt.xticks(np.arange(len(Labname))+0.5,Labname,rotation=90)\n",
    "plt.yticks(np.arange(len(Labname))+0.3,Labname,rotation=0)\n",
    "plt.show()\n",
    "\n",
    "\n",
    "print(metrics.classification_report(np.argmax(test_pre,axis=1),np.argmax(test_y,axis=1)))"
   ]
  },
  {
   "cell_type": "markdown",
   "metadata": {},
   "source": [
    "用时1小时，测试集准确率75%，考虑到0的f1-score较低，可能由于0的标签数量比较少导致。"
   ]
  },
  {
   "cell_type": "code",
   "execution_count": 44,
   "metadata": {},
   "outputs": [],
   "source": [
    "# 保存训练好的Tokenizer，和导入\n",
    "import pickle\n",
    "# saving\n",
    "with open('tok_inews.pickle', 'wb') as handle:\n",
    "    pickle.dump(tok, handle, protocol=pickle.HIGHEST_PROTOCOL)"
   ]
  },
  {
   "cell_type": "code",
   "execution_count": 45,
   "metadata": {},
   "outputs": [],
   "source": [
    "# import pickle\n",
    "# # loading\n",
    "# with open('tok_thucnews.pickle', 'rb') as handle:\n",
    "#     tok = pickle.load(handle)\n",
    "# ## 使用word_index属性可以看到每次词对应的编码\n",
    "# ## 使用word_counts属性可以看到每个词对应的频数\n",
    "# for ii,iterm in enumerate(tok.word_index.items()):\n",
    "#     if ii < 10:\n",
    "#         print(iterm)\n",
    "#     else:\n",
    "#         break\n",
    "# print(\"===================\")  \n",
    "# for ii,iterm in enumerate(tok.word_counts.items()):\n",
    "#     if ii < 10:\n",
    "#         print(iterm)\n",
    "#     else:\n",
    "#         break"
   ]
  },
  {
   "cell_type": "code",
   "execution_count": 46,
   "metadata": {},
   "outputs": [],
   "source": [
    "## 模型的保存和导入\n",
    "from keras.models import load_model\n",
    "# 保存模型\n",
    "model.save('inews_model.h5')  "
   ]
  },
  {
   "cell_type": "code",
   "execution_count": 47,
   "metadata": {},
   "outputs": [],
   "source": [
    "# # 导入已经训练好的模型\n",
    "# model = load_model('my_model.h5')\n",
    "# ## 使用tok对验证数据集重新预处理\n",
    "# val_seq = tok.texts_to_sequences(val_df.cutword)\n",
    "# ## 将每个序列调整为相同的长度\n",
    "# val_seq_mat = sequence.pad_sequences(val_seq,maxlen=max_len)\n",
    "# ## 对验证集进行预测\n",
    "# val_pre = model.predict(val_seq_mat)\n",
    "# print(metrics.classification_report(np.argmax(val_pre,axis=1),np.argmax(val_y,axis=1)))"
   ]
  }
 ],
 "metadata": {
  "kernelspec": {
   "display_name": "Python 3",
   "language": "python",
   "name": "python3"
  },
  "language_info": {
   "codemirror_mode": {
    "name": "ipython",
    "version": 3
   },
   "file_extension": ".py",
   "mimetype": "text/x-python",
   "name": "python",
   "nbconvert_exporter": "python",
   "pygments_lexer": "ipython3",
   "version": "3.7.4"
  }
 },
 "nbformat": 4,
 "nbformat_minor": 2
}
